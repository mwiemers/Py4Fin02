{
 "cells": [
  {
   "cell_type": "markdown",
   "metadata": {},
   "source": [
    "# NumPy - Calculations and Statistics"
   ]
  },
  {
   "cell_type": "markdown",
   "metadata": {},
   "source": [
    "In this unit, you are going to learn how to use the NumPy library for array calculations and statistics\n",
    "\n",
    "You will learn about:\n",
    "- doing calculations with array columns to create new values\n",
    "- calculating basic statistics\n",
    "- running a simple linear regression and plotting the output"
   ]
  },
  {
   "cell_type": "markdown",
   "metadata": {},
   "source": [
    "### Examples from the introduction to calculations and statistics"
   ]
  },
  {
   "cell_type": "markdown",
   "metadata": {},
   "source": [
    "#### array calculations"
   ]
  },
  {
   "cell_type": "code",
   "execution_count": 11,
   "metadata": {},
   "outputs": [
    {
     "name": "stdout",
     "output_type": "stream",
     "text": [
      "[10 10 10]\n"
     ]
    }
   ],
   "source": [
    "import numpy as np\n",
    "\n",
    "my_array = np.array([[5, 6, 7], \n",
    "                     [4, 2, 0], \n",
    "                     [1, 2, 3]])\n",
    "\n",
    "# calculating the sum of rows by adding up the rows manually\n",
    "sum_of_rows = my_array[0] + my_array[1] + my_array[2]\n",
    "\n",
    "print(sum_of_rows)"
   ]
  },
  {
   "cell_type": "code",
   "execution_count": 12,
   "metadata": {},
   "outputs": [
    {
     "name": "stdout",
     "output_type": "stream",
     "text": [
      "[5.         3.         2.33333333]\n"
     ]
    }
   ],
   "source": [
    "# dividing the first row by the last row\n",
    "print(my_array[0] / my_array[-1])"
   ]
  },
  {
   "cell_type": "code",
   "execution_count": 15,
   "metadata": {},
   "outputs": [
    {
     "name": "stdout",
     "output_type": "stream",
     "text": [
      "[20 12  0]\n"
     ]
    }
   ],
   "source": [
    "# multiplying the first row by the second row\n",
    "print(my_array[0] * my_array[1])"
   ]
  },
  {
   "cell_type": "code",
   "execution_count": 16,
   "metadata": {},
   "outputs": [
    {
     "name": "stdout",
     "output_type": "stream",
     "text": [
      "[30  8  2]\n"
     ]
    }
   ],
   "source": [
    "# multiplying the first column by the second column\n",
    "print(my_array[:, 0] * my_array[:, 1])"
   ]
  },
  {
   "cell_type": "code",
   "execution_count": 17,
   "metadata": {},
   "outputs": [
    {
     "name": "stdout",
     "output_type": "stream",
     "text": [
      "[[ 1.  1.  1.]\n",
      " [ 1.  1. nan]\n",
      " [ 1.  1.  1.]]\n"
     ]
    },
    {
     "name": "stderr",
     "output_type": "stream",
     "text": [
      "<ipython-input-17-8e6990b8edff>:2: RuntimeWarning: invalid value encountered in true_divide\n",
      "  print(my_array/my_array)\n"
     ]
    }
   ],
   "source": [
    "# dividing the whole array by itself\n",
    "print(my_array/my_array)"
   ]
  },
  {
   "cell_type": "markdown",
   "metadata": {},
   "source": [
    "#### using numpy functions and array methods"
   ]
  },
  {
   "cell_type": "code",
   "execution_count": 2,
   "metadata": {},
   "outputs": [
    {
     "name": "stdout",
     "output_type": "stream",
     "text": [
      "6.0\n"
     ]
    }
   ],
   "source": [
    "# calculating the mean\n",
    "my_array = np.array([[5, 6, 7], \n",
    "                     [4, 2, 0], \n",
    "                     [1, 2, 3]])\n",
    "\n",
    "# using the numpy function\n",
    "row1_mean = np.mean(my_array[0])\n",
    "\n",
    "# using the array method\n",
    "row1_mean = my_array[0].mean()\n",
    "\n",
    "print(row1_mean)"
   ]
  },
  {
   "cell_type": "code",
   "execution_count": 3,
   "metadata": {},
   "outputs": [
    {
     "name": "stdout",
     "output_type": "stream",
     "text": [
      "0.816496580927726\n"
     ]
    }
   ],
   "source": [
    "# calculating the standard deviation of the first row\n",
    "row1_sd = my_array[0].std()\n",
    "print(row1_sd)"
   ]
  },
  {
   "cell_type": "code",
   "execution_count": 4,
   "metadata": {},
   "outputs": [
    {
     "name": "stdout",
     "output_type": "stream",
     "text": [
      "[10 10 10]\n"
     ]
    }
   ],
   "source": [
    "# calculating the sum along the rows\n",
    "print(my_array.sum(axis=0))"
   ]
  },
  {
   "cell_type": "code",
   "execution_count": 18,
   "metadata": {},
   "outputs": [
    {
     "name": "stdout",
     "output_type": "stream",
     "text": [
      "[18  6  6]\n"
     ]
    }
   ],
   "source": [
    "# calculating the sum along the columns\n",
    "print(my_array.sum(axis=1))"
   ]
  },
  {
   "cell_type": "markdown",
   "metadata": {},
   "source": [
    "### Task 1: Convert the lakers data to an array\n",
    "\n",
    "1. Import numpy.\n",
    "2. Run the cell below to create the lists `lakers_data`, `column_names` and `player_names`.\n",
    "3. Convert the lakers_data list to a numpy array."
   ]
  },
  {
   "cell_type": "code",
   "execution_count": 7,
   "metadata": {},
   "outputs": [],
   "source": [
    "# run this cell to load the lists into Python\n",
    "\n",
    "lakers_data = [[1.0, 1.0, 67.0, 34.6, 9.6, 19.4, 3.9, 5.7, 7.8, 10.2, 1.2, 0.5, 25.3],\n",
    "               [2.0, 4.0, 62.0, 34.4, 8.9, 17.7, 7.2, 8.5, 9.3, 3.2, 1.5, 2.3, 26.1],\n",
    "               [3.0, 2.0, 69.0, 25.5, 3.4, 7.3, 1.1, 1.5, 2.1, 1.6, 0.8, 0.2, 9.3],\n",
    "               [4.0, 4.0, 61.0, 25.0, 4.8, 11.0, 1.9, 2.5, 4.5, 1.3, 0.5, 0.4, 12.8],\n",
    "               [5.0, 2.0, 68.0, 24.8, 2.9, 7.0, 0.5, 0.7, 3.3, 1.3, 1.3, 0.5, 8.0],\n",
    "               [6.0, 2.0, 49.0, 24.2, 3.5, 7.8, 0.4, 0.5, 2.3, 1.3, 0.9, 0.1, 8.6],\n",
    "               [7.0, 2.0, 7.0, 23.6, 4.4, 10.4, 2.0, 2.3, 1.9, 2.4, 0.6, 0.6, 11.9],\n",
    "               [8.0, 1.0, 48.0, 20.5, 2.9, 6.8, 0.6, 0.9, 3.0, 5.0, 0.8, 0.0, 7.1],\n",
    "               [9.0, 5.0, 69.0, 18.9, 2.9, 4.0, 1.6, 3.1, 7.3, 0.7, 0.4, 1.1, 7.5],\n",
    "               [10.0, 2.0, 64.0, 18.4, 1.9, 4.5, 1.1, 1.5, 1.9, 1.9, 1.1, 0.3, 5.5],\n",
    "               [11.0, 5.0, 68.0, 16.6, 2.9, 4.5, 0.8, 1.2, 5.7, 0.5, 0.5, 1.4, 6.6],\n",
    "               [12.0, 4.0, 14.0, 14.2, 2.0, 4.9, 0.4, 0.4, 3.2, 0.6, 0.4, 0.4, 5.3],\n",
    "               [13.0, 3.0, 6.0, 13.5, 2.3, 5.0, 0.3, 0.7, 1.2, 1.0, 1.3, 0.2, 5.7],\n",
    "               [14.0, 2.0, 6.0, 13.2, 1.2, 3.7, 0.3, 0.3, 0.8, 0.5, 0.2, 0.0, 2.8],\n",
    "               [15.0, 1.0, 44.0, 11.5, 2.1, 4.9, 0.3, 0.3, 1.2, 1.1, 0.3, 0.0, 5.1],\n",
    "               [16.0, 2.0, 41.0, 11.1, 1.5, 3.9, 0.2, 0.4, 1.1, 0.3, 0.2, 0.1, 4.2],\n",
    "               [17.0, 5.0, 1.0, 9.0, 3.0, 6.0, 0.0, 0.0, 5.0, 1.0, 0.0, 0.0, 6.0],\n",
    "               [18.0, 4.0, 45.0, 8.1, 0.5, 1.3, 0.0, 0.0, 1.2, 0.6, 0.3, 0.1, 1.5],\n",
    "               [19.0, 4.0, 5.0, 4.0, 0.6, 0.6, 0.2, 0.4, 0.6, 0.4, 0.0, 0.0, 1.4],\n",
    "               [20.0, 2.0, 2.0, 2.5, 0.0, 0.5, 0.0, 0.0, 0.5, 0.0, 0.0, 0.0, 0.0]]\n",
    "\n",
    "column_names = ['Rank',\n",
    "                'Position',\n",
    "                'Games',\n",
    "                'Minutes',\n",
    "                'Shots made',\n",
    "                'Shots attempted',\n",
    "                'Free throws',\n",
    "                'Free throws attempted',\n",
    "                'Rebounds',\n",
    "                'Assists',\n",
    "                'Steals',\n",
    "                'Blocks',\n",
    "                'Points']\n",
    "\n",
    "player_names = ['LeBron James',\n",
    "                'Anthony Davis',\n",
    "                'Kentavious Caldwell-Pope',\n",
    "                'Kyle Kuzma',\n",
    "                'Danny Green',\n",
    "                'Avery Bradley',\n",
    "                'Dion Waiters',\n",
    "                'Rajon Rondo',\n",
    "                'Dwight Howard',\n",
    "                'Alex Caruso',\n",
    "                'JaVale McGee',\n",
    "                'Markieff Morris',\n",
    "                'Talen Horton-Tucker',\n",
    "                'J.R. Smith',\n",
    "                'Quinn Cook',\n",
    "                'Troy Daniels',\n",
    "                'Devontae Cacok',\n",
    "                'Jared Dudley',\n",
    "                'Kostas Antetokounmpo',\n",
    "                'Zach Norvell']"
   ]
  },
  {
   "cell_type": "code",
   "execution_count": 8,
   "metadata": {},
   "outputs": [],
   "source": [
    "# import numpy \n",
    "\n",
    "\n",
    "# convert lakers_data to lakers_np\n",
    "\n"
   ]
  },
  {
   "cell_type": "markdown",
   "metadata": {},
   "source": [
    "#### Printing column names and indices"
   ]
  },
  {
   "cell_type": "code",
   "execution_count": 39,
   "metadata": {},
   "outputs": [
    {
     "name": "stdout",
     "output_type": "stream",
     "text": [
      "0 Rank\n",
      "1 Position\n",
      "2 Games\n",
      "3 Minutes\n",
      "4 Shots made\n",
      "5 Shots attempted\n",
      "6 Free throws\n",
      "7 Free throws attempted\n",
      "8 Rebounds\n",
      "9 Assists\n",
      "10 Steals\n",
      "11 Blocks\n",
      "12 Points\n"
     ]
    }
   ],
   "source": [
    "for i in range(len(column_names)):\n",
    "    print(i, column_names[i])"
   ]
  },
  {
   "cell_type": "markdown",
   "metadata": {},
   "source": [
    "### Task 2: LA Lakers stats\n"
   ]
  },
  {
   "cell_type": "markdown",
   "metadata": {},
   "source": [
    "You might assume that the top players have a higher shooting percentage (make more shots per attempted shots), but is this actually the case?\n",
    "\n",
    "1. Calculate the shooting percentage using the 'Shots made' and 'Shots attempted' columns and assign to `shoot_perc`.\n",
    "\n",
    "2. Use the shoot_perc array to create a subset of the first five players and assign to `shoot_top5`.\n",
    "\n",
    "3. Use the shoot_perc array to create a subset of the remaining players and assign to `shoot_rest`.\n",
    "\n",
    "4. Calculate the mean for both the first five and the remaining players and assign to the variables `shoot_top5_mean` and `shoot_rest_mean`.\n",
    "\n",
    "5. Print a statement like below\n",
    "<pre>Shooting percentage top 5 players: 45.23 %\n",
    "Shooting percentage bottom 5 players: 43.56 %</pre>"
   ]
  },
  {
   "cell_type": "code",
   "execution_count": null,
   "metadata": {},
   "outputs": [],
   "source": [
    "# Calculate the shooting percentage using the 'Shots made' and 'Shots attempted' columns and assign to shoot_perc.\n"
   ]
  },
  {
   "cell_type": "code",
   "execution_count": null,
   "metadata": {},
   "outputs": [],
   "source": [
    "# Use the shoot_perc array to create a subset of the first five players and assign to shoot_top5.\n"
   ]
  },
  {
   "cell_type": "code",
   "execution_count": null,
   "metadata": {},
   "outputs": [],
   "source": [
    "# Use the shoot_perc array to create a subset of the remaining players and assign to shoot_rest.\n"
   ]
  },
  {
   "cell_type": "code",
   "execution_count": null,
   "metadata": {},
   "outputs": [],
   "source": [
    "# Calculate the mean for both the first five and the remaining players and assign to the variables shoot_top5_mean and shoot_rest_mean.\n"
   ]
  },
  {
   "cell_type": "code",
   "execution_count": null,
   "metadata": {},
   "outputs": [],
   "source": [
    "# Print a statement\n"
   ]
  },
  {
   "cell_type": "markdown",
   "metadata": {},
   "source": [
    "### Task 3: Simple linear regression using np.polyfit\n",
    "\n",
    "The basic simple linear regression model describes the relationship between the variables x and y as a line with the slope $\\beta$ and the intercept $\\alpha$. With the regression equation we can input values of x to predict values of y.\n",
    "\n",
    "$y = \\alpha + \\beta x $\n",
    "\n",
    "We want to build a simple linear regression model to predict the points per game based on the number of free throws attempted. The equation for that model would look like this:\n",
    "\n",
    "$PPG_i = intercept + \\beta FTA_i $\n",
    "\n",
    "where\n",
    "- $PPG_i = $ predicted points per game of a player\n",
    "- $FTA_i = $ attempted free throws per game of a player\n",
    "\n",
    "You can use the NumPy `polyfit()` function to perform a simple linear regression. You have to pass the predictor and result variable and the degree of the fit to the function. For a simple linear regression we have to pass 1 as the degree of the fit. \n",
    "\n",
    "See the example to run a simple linear regression to predict points per game based on the number of free throws attempted. We first create two arrays for the predictor variable, the attempted free throws per game, and the outcome variable, the points per game.\n",
    "\n",
    "We then pass the predictor and outcome variable together with the value 1, for the degree of fit, to the polyfit() function. The function returns the slope and the intercept of the regression line."
   ]
  },
  {
   "cell_type": "code",
   "execution_count": 10,
   "metadata": {},
   "outputs": [
    {
     "name": "stdout",
     "output_type": "stream",
     "text": [
      "intercept:  1.3945871849847087\n",
      "slope:  2.078376467923409\n"
     ]
    }
   ],
   "source": [
    "free_throws_attempted = lakers_np[:, 8]\n",
    "points_per_game = lakers_np[:, -1]\n",
    "\n",
    "# np.polyfit returns the coefficients of the linear regression model\n",
    "coeffs = np.polyfit(free_throws_attempted, points_per_game, 1)\n",
    "print('intercept: ', coeffs[1])\n",
    "print('slope: ', coeffs[0])\n"
   ]
  },
  {
   "cell_type": "markdown",
   "metadata": {},
   "source": [
    "We can now use the coefficients to calculate the values that can be predicted with the linear regression model."
   ]
  },
  {
   "cell_type": "code",
   "execution_count": 9,
   "metadata": {},
   "outputs": [
    {
     "name": "stdout",
     "output_type": "stream",
     "text": [
      "[17.60592363 20.72348834  5.75917777 10.74728129  8.25322953  6.17485306\n",
      "  5.34350247  7.62971659 16.5667354   5.34350247 13.24133305  8.04539188\n",
      "  3.88863895  3.05728836  3.88863895  3.6808013  11.78646952  3.88863895\n",
      "  2.64161307  2.43377542]\n"
     ]
    }
   ],
   "source": [
    "pred = free_throws_attempted * coeffs[0] + coeffs[1]\n",
    "print(pred)"
   ]
  },
  {
   "cell_type": "markdown",
   "metadata": {},
   "source": [
    "Now it is your turn to calculate the predicted points per game, using the 'Minutes' column as a predictor instead of the 'Free throws attempted' column.\n",
    "\n",
    "1. Create two variables for the 'Minutes' and 'Points' column.\n",
    "2. Use the `polyfit()` function to calculate the coefficients. Run a simple linear regression using `minutes` as the predictor for `points_per_game`. Supply minutes, points_per_game and 1 to calculate the correlation coefficient and intercept. Assign the output to `coeffs`.\n",
    "3. Calculate the predicted values using the coefficient and intercept.\n",
    "4. Run the below code cell at the bottom to create a visualization of the relationship between `minutes` and `points_per_game`."
   ]
  },
  {
   "cell_type": "code",
   "execution_count": 24,
   "metadata": {},
   "outputs": [],
   "source": [
    "# create variables for Minutes and Points column\n"
   ]
  },
  {
   "cell_type": "code",
   "execution_count": 25,
   "metadata": {},
   "outputs": [],
   "source": [
    "# calculate regression coefficients using the polyfit function\n"
   ]
  },
  {
   "cell_type": "code",
   "execution_count": 26,
   "metadata": {},
   "outputs": [],
   "source": [
    "# calculate the predicted values\n"
   ]
  },
  {
   "cell_type": "markdown",
   "metadata": {},
   "source": [
    "Use the code cell below to create a scatter plot with a line of best fit. This plot shows the relationshop between minutes and points per game. The blue dots show the actual values in the data. The predicted values fall on the red line.\n",
    "\n",
    "You will learn more about using matplotlib to create visualizations in tomorrow's practical sessions."
   ]
  },
  {
   "cell_type": "code",
   "execution_count": 28,
   "metadata": {},
   "outputs": [
    {
     "data": {
      "image/png": "[encoded data removed]",
      "text/plain": [
       "<Figure size 432x288 with 1 Axes>"
      ]
     },
     "metadata": {
      "needs_background": "light"
     },
     "output_type": "display_data"
    }
   ],
   "source": [
    "# run the code cell to create a scatter plot with line of best fit\n",
    "import matplotlib.pyplot as plt\n",
    "\n",
    "plt.scatter(minutes, points_per_game)\n",
    "plt.plot(minutes, pred, 'red')\n",
    "plt.show()"
   ]
  }
 ],
 "metadata": {
  "kernelspec": {
   "display_name": "Python 3",
   "language": "python",
   "name": "python3"
  },
  "language_info": {
   "codemirror_mode": {
    "name": "ipython",
    "version": 3
   },
   "file_extension": ".py",
   "mimetype": "text/x-python",
   "name": "python",
   "nbconvert_exporter": "python",
   "pygments_lexer": "ipython3",
   "version": "3.8.5"
  }
 },
 "nbformat": 4,
 "nbformat_minor": 5
}
