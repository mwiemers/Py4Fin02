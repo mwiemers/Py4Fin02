{
 "cells": [
  {
   "cell_type": "markdown",
   "metadata": {},
   "source": [
    "# Pandas - Introduction"
   ]
  },
  {
   "cell_type": "markdown",
   "metadata": {},
   "source": [
    "In this unit, you are going to learn the basics of using the Pandas library.\n",
    "\n",
    "You will learn about:\n",
    "- importing datasets\n",
    "- inspecting data for basic sanity checks\n",
    "- getting summary statistics\n",
    "- selecting columns"
   ]
  },
  {
   "cell_type": "markdown",
   "metadata": {},
   "source": [
    "### Examples from the introduction to creatign and indexing arrays\n"
   ]
  },
  {
   "cell_type": "markdown",
   "metadata": {},
   "source": [
    "#### Importing a dataset"
   ]
  },
  {
   "cell_type": "code",
   "execution_count": 1,
   "metadata": {},
   "outputs": [
    {
     "data": {
      "text/html": [
       "<div>\n",
       "<style scoped>\n",
       "    .dataframe tbody tr th:only-of-type {\n",
       "        vertical-align: middle;\n",
       "    }\n",
       "\n",
       "    .dataframe tbody tr th {\n",
       "        vertical-align: top;\n",
       "    }\n",
       "\n",
       "    .dataframe thead th {\n",
       "        text-align: right;\n",
       "    }\n",
       "</style>\n",
       "<table border=\"1\" class=\"dataframe\">\n",
       "  <thead>\n",
       "    <tr style=\"text-align: right;\">\n",
       "      <th></th>\n",
       "      <th>Company</th>\n",
       "      <th>Revenue</th>\n",
       "      <th>Net Income</th>\n",
       "      <th>Market Value</th>\n",
       "      <th>EPS 3 YR Growth Rate</th>\n",
       "      <th>Revenue 3 YR Growth Rate</th>\n",
       "      <th>Total Return 3 YR Rate</th>\n",
       "    </tr>\n",
       "  </thead>\n",
       "  <tbody>\n",
       "    <tr>\n",
       "      <th>0</th>\n",
       "      <td>AppFolio</td>\n",
       "      <td>271</td>\n",
       "      <td>35</td>\n",
       "      <td>4805</td>\n",
       "      <td>1.61</td>\n",
       "      <td>0.34</td>\n",
       "      <td>0.71</td>\n",
       "    </tr>\n",
       "    <tr>\n",
       "      <th>1</th>\n",
       "      <td>Medifast</td>\n",
       "      <td>726</td>\n",
       "      <td>76</td>\n",
       "      <td>1899</td>\n",
       "      <td>0.65</td>\n",
       "      <td>0.44</td>\n",
       "      <td>0.54</td>\n",
       "    </tr>\n",
       "    <tr>\n",
       "      <th>2</th>\n",
       "      <td>Texas Pacific Land Trust</td>\n",
       "      <td>395</td>\n",
       "      <td>236</td>\n",
       "      <td>3506</td>\n",
       "      <td>0.90</td>\n",
       "      <td>0.87</td>\n",
       "      <td>0.29</td>\n",
       "    </tr>\n",
       "    <tr>\n",
       "      <th>3</th>\n",
       "      <td>Medpace Holdings</td>\n",
       "      <td>891</td>\n",
       "      <td>110</td>\n",
       "      <td>3944</td>\n",
       "      <td>0.92</td>\n",
       "      <td>0.32</td>\n",
       "      <td>0.47</td>\n",
       "    </tr>\n",
       "    <tr>\n",
       "      <th>4</th>\n",
       "      <td>Netflix</td>\n",
       "      <td>21403</td>\n",
       "      <td>2232</td>\n",
       "      <td>217632</td>\n",
       "      <td>0.93</td>\n",
       "      <td>0.32</td>\n",
       "      <td>0.45</td>\n",
       "    </tr>\n",
       "  </tbody>\n",
       "</table>\n",
       "</div>"
      ],
      "text/plain": [
       "                    Company  Revenue  Net Income  Market Value  \\\n",
       "0                  AppFolio      271          35          4805   \n",
       "1                  Medifast      726          76          1899   \n",
       "2  Texas Pacific Land Trust      395         236          3506   \n",
       "3          Medpace Holdings      891         110          3944   \n",
       "4                   Netflix    21403        2232        217632   \n",
       "\n",
       "   EPS 3 YR Growth Rate  Revenue 3 YR Growth Rate  Total Return 3 YR Rate  \n",
       "0                  1.61                      0.34                    0.71  \n",
       "1                  0.65                      0.44                    0.54  \n",
       "2                  0.90                      0.87                    0.29  \n",
       "3                  0.92                      0.32                    0.47  \n",
       "4                  0.93                      0.32                    0.45  "
      ]
     },
     "execution_count": 1,
     "metadata": {},
     "output_type": "execute_result"
    }
   ],
   "source": [
    "# importing pandas\n",
    "import pandas as pd\n",
    "\n",
    "# loading a dataset\n",
    "f500 = pd.read_csv('fortune500.csv')\n",
    "\n",
    "# printing first 5 rows\n",
    "f500.head()"
   ]
  },
  {
   "cell_type": "markdown",
   "metadata": {},
   "source": [
    "#### Inspecting data"
   ]
  },
  {
   "cell_type": "code",
   "execution_count": 3,
   "metadata": {},
   "outputs": [
    {
     "data": {
      "text/plain": [
       "(10, 7)"
      ]
     },
     "execution_count": 3,
     "metadata": {},
     "output_type": "execute_result"
    }
   ],
   "source": [
    "# getting number of rows and columns\n",
    "f500.shape"
   ]
  },
  {
   "cell_type": "code",
   "execution_count": 4,
   "metadata": {},
   "outputs": [
    {
     "data": {
      "text/plain": [
       "Company                      object\n",
       "Revenue                       int64\n",
       "Net Income                    int64\n",
       "Market Value                  int64\n",
       "EPS 3 YR Growth Rate        float64\n",
       "Revenue 3 YR Growth Rate    float64\n",
       "Total Return 3 YR Rate      float64\n",
       "dtype: object"
      ]
     },
     "execution_count": 4,
     "metadata": {},
     "output_type": "execute_result"
    }
   ],
   "source": [
    "# getting the data type for each column\n",
    "f500.dtypes"
   ]
  },
  {
   "cell_type": "code",
   "execution_count": 5,
   "metadata": {},
   "outputs": [
    {
     "data": {
      "text/html": [
       "<div>\n",
       "<style scoped>\n",
       "    .dataframe tbody tr th:only-of-type {\n",
       "        vertical-align: middle;\n",
       "    }\n",
       "\n",
       "    .dataframe tbody tr th {\n",
       "        vertical-align: top;\n",
       "    }\n",
       "\n",
       "    .dataframe thead th {\n",
       "        text-align: right;\n",
       "    }\n",
       "</style>\n",
       "<table border=\"1\" class=\"dataframe\">\n",
       "  <thead>\n",
       "    <tr style=\"text-align: right;\">\n",
       "      <th></th>\n",
       "      <th>Revenue</th>\n",
       "      <th>Net Income</th>\n",
       "      <th>Market Value</th>\n",
       "      <th>EPS 3 YR Growth Rate</th>\n",
       "      <th>Revenue 3 YR Growth Rate</th>\n",
       "      <th>Total Return 3 YR Rate</th>\n",
       "    </tr>\n",
       "  </thead>\n",
       "  <tbody>\n",
       "    <tr>\n",
       "      <th>count</th>\n",
       "      <td>10.000000</td>\n",
       "      <td>10.000000</td>\n",
       "      <td>1.000000e+01</td>\n",
       "      <td>10.000000</td>\n",
       "      <td>10.000000</td>\n",
       "      <td>10.000000</td>\n",
       "    </tr>\n",
       "    <tr>\n",
       "      <th>mean</th>\n",
       "      <td>32653.100000</td>\n",
       "      <td>1495.900000</td>\n",
       "      <td>1.905085e+05</td>\n",
       "      <td>0.882000</td>\n",
       "      <td>0.375000</td>\n",
       "      <td>0.521000</td>\n",
       "    </tr>\n",
       "    <tr>\n",
       "      <th>std</th>\n",
       "      <td>92855.965511</td>\n",
       "      <td>3275.019031</td>\n",
       "      <td>4.911580e+05</td>\n",
       "      <td>0.413919</td>\n",
       "      <td>0.181123</td>\n",
       "      <td>0.189294</td>\n",
       "    </tr>\n",
       "    <tr>\n",
       "      <th>min</th>\n",
       "      <td>271.000000</td>\n",
       "      <td>35.000000</td>\n",
       "      <td>1.899000e+03</td>\n",
       "      <td>0.370000</td>\n",
       "      <td>0.250000</td>\n",
       "      <td>0.290000</td>\n",
       "    </tr>\n",
       "    <tr>\n",
       "      <th>25%</th>\n",
       "      <td>434.000000</td>\n",
       "      <td>71.500000</td>\n",
       "      <td>4.011250e+03</td>\n",
       "      <td>0.620000</td>\n",
       "      <td>0.290000</td>\n",
       "      <td>0.427500</td>\n",
       "    </tr>\n",
       "    <tr>\n",
       "      <th>50%</th>\n",
       "      <td>801.500000</td>\n",
       "      <td>93.500000</td>\n",
       "      <td>6.770500e+03</td>\n",
       "      <td>0.905000</td>\n",
       "      <td>0.320000</td>\n",
       "      <td>0.475000</td>\n",
       "    </tr>\n",
       "    <tr>\n",
       "      <th>75%</th>\n",
       "      <td>3837.000000</td>\n",
       "      <td>1192.250000</td>\n",
       "      <td>5.648150e+04</td>\n",
       "      <td>0.927500</td>\n",
       "      <td>0.337500</td>\n",
       "      <td>0.600000</td>\n",
       "    </tr>\n",
       "    <tr>\n",
       "      <th>max</th>\n",
       "      <td>296274.000000</td>\n",
       "      <td>10562.000000</td>\n",
       "      <td>1.575238e+06</td>\n",
       "      <td>1.610000</td>\n",
       "      <td>0.870000</td>\n",
       "      <td>0.920000</td>\n",
       "    </tr>\n",
       "  </tbody>\n",
       "</table>\n",
       "</div>"
      ],
      "text/plain": [
       "             Revenue    Net Income  Market Value  EPS 3 YR Growth Rate  \\\n",
       "count      10.000000     10.000000  1.000000e+01             10.000000   \n",
       "mean    32653.100000   1495.900000  1.905085e+05              0.882000   \n",
       "std     92855.965511   3275.019031  4.911580e+05              0.413919   \n",
       "min       271.000000     35.000000  1.899000e+03              0.370000   \n",
       "25%       434.000000     71.500000  4.011250e+03              0.620000   \n",
       "50%       801.500000     93.500000  6.770500e+03              0.905000   \n",
       "75%      3837.000000   1192.250000  5.648150e+04              0.927500   \n",
       "max    296274.000000  10562.000000  1.575238e+06              1.610000   \n",
       "\n",
       "       Revenue 3 YR Growth Rate  Total Return 3 YR Rate  \n",
       "count                 10.000000               10.000000  \n",
       "mean                   0.375000                0.521000  \n",
       "std                    0.181123                0.189294  \n",
       "min                    0.250000                0.290000  \n",
       "25%                    0.290000                0.427500  \n",
       "50%                    0.320000                0.475000  \n",
       "75%                    0.337500                0.600000  \n",
       "max                    0.870000                0.920000  "
      ]
     },
     "execution_count": 5,
     "metadata": {},
     "output_type": "execute_result"
    }
   ],
   "source": [
    "# getting summary statistics for each column\n",
    "f500.describe()"
   ]
  },
  {
   "cell_type": "code",
   "execution_count": 6,
   "metadata": {},
   "outputs": [
    {
     "name": "stdout",
     "output_type": "stream",
     "text": [
      "<class 'pandas.core.frame.DataFrame'>\n",
      "RangeIndex: 10 entries, 0 to 9\n",
      "Data columns (total 7 columns):\n",
      " #   Column                    Non-Null Count  Dtype  \n",
      "---  ------                    --------------  -----  \n",
      " 0   Company                   10 non-null     object \n",
      " 1   Revenue                   10 non-null     int64  \n",
      " 2   Net Income                10 non-null     int64  \n",
      " 3   Market Value              10 non-null     int64  \n",
      " 4   EPS 3 YR Growth Rate      10 non-null     float64\n",
      " 5   Revenue 3 YR Growth Rate  10 non-null     float64\n",
      " 6   Total Return 3 YR Rate    10 non-null     float64\n",
      "dtypes: float64(3), int64(3), object(1)\n",
      "memory usage: 688.0+ bytes\n"
     ]
    }
   ],
   "source": [
    "# getting the number of non-null values for each column\n",
    "f500.info()"
   ]
  },
  {
   "cell_type": "markdown",
   "metadata": {},
   "source": [
    "### Task 1 - Importing the console sales dataset.\n",
    "\n",
    "The console_sales.csv dataset has data on yearly and cumulative sales for the biggest video game consoles from 2005-2018.\n",
    "\n",
    "1. Import the pandas library.\n",
    "2. Load the console_sales.csv file.\n",
    "3. Print the first 5 rows of the dataset."
   ]
  },
  {
   "cell_type": "code",
   "execution_count": 1,
   "metadata": {},
   "outputs": [],
   "source": [
    "# Import the pandas library.\n",
    "\n",
    "\n",
    "# Load the console_sales.csv file.\n",
    "\n",
    "\n",
    "# Print the first 5 rows of the dataset.\n",
    "\n"
   ]
  },
  {
   "cell_type": "markdown",
   "metadata": {},
   "source": [
    "### Task 2 - Inspecting the data\n",
    "\n",
    "1. How many rows does the dataset have?\n",
    "2. Print the summary statistics for the dataset. \n",
    "3. Print the summary statistics only for the sold_year_pct_change column.\n",
    "3. Print the data types. Which columns are non-numerical?\n",
    "4. Are there any nan's/missing values in the dataset?"
   ]
  },
  {
   "cell_type": "code",
   "execution_count": null,
   "metadata": {},
   "outputs": [],
   "source": [
    "# How many rows does the dataset have?\n",
    "\n"
   ]
  },
  {
   "cell_type": "code",
   "execution_count": null,
   "metadata": {},
   "outputs": [],
   "source": [
    "# Print the summary statistics for the dataset.\n",
    "\n"
   ]
  },
  {
   "cell_type": "code",
   "execution_count": null,
   "metadata": {},
   "outputs": [],
   "source": [
    "# Print the summary statistics only for the sold_year_pct_change column.\n",
    "\n"
   ]
  },
  {
   "cell_type": "code",
   "execution_count": null,
   "metadata": {},
   "outputs": [],
   "source": [
    "# Print the data types. Which columns are non-numerical?\n",
    "\n"
   ]
  },
  {
   "cell_type": "code",
   "execution_count": null,
   "metadata": {},
   "outputs": [],
   "source": [
    "# Are there any nan's/missing values in the dataset?\n",
    "\n"
   ]
  }
 ],
 "metadata": {
  "kernelspec": {
   "display_name": "Python 3",
   "language": "python",
   "name": "python3"
  },
  "language_info": {
   "codemirror_mode": {
    "name": "ipython",
    "version": 3
   },
   "file_extension": ".py",
   "mimetype": "text/x-python",
   "name": "python",
   "nbconvert_exporter": "python",
   "pygments_lexer": "ipython3",
   "version": "3.8.5"
  }
 },
 "nbformat": 4,
 "nbformat_minor": 5
}
