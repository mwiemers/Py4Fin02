{
 "cells": [
  {
   "cell_type": "markdown",
   "metadata": {},
   "source": [
    "# NumPy - Boolean indexing"
   ]
  },
  {
   "cell_type": "markdown",
   "metadata": {},
   "source": [
    "In this unit, you are going to learn how to create subsets of arrays with boolean indexing.\n",
    "\n",
    "You will learn about:\n",
    "- creating subsets using boolean indexing\n",
    "- doing calculations with arrays\n",
    "- calculating statistics using NumPy functions and methods"
   ]
  },
  {
   "cell_type": "markdown",
   "metadata": {},
   "source": [
    "### Examples from the introduction to boolean indexing"
   ]
  },
  {
   "cell_type": "code",
   "execution_count": 1,
   "metadata": {},
   "outputs": [
    {
     "name": "stdout",
     "output_type": "stream",
     "text": [
      "[ True  True  True False False]\n"
     ]
    }
   ],
   "source": [
    "import numpy as np\n",
    "\n",
    "my_array = np.array([1,2,3,4,5])\n",
    "\n",
    "# creating a boolean array using logical operators\n",
    "print(my_array <= 3)"
   ]
  },
  {
   "cell_type": "code",
   "execution_count": 10,
   "metadata": {},
   "outputs": [
    {
     "name": "stdout",
     "output_type": "stream",
     "text": [
      "[3 4 5]\n"
     ]
    }
   ],
   "source": [
    "# using a boolean array to subset an array\n",
    "\n",
    "my_array = np.array([1,2,3,4,5])\n",
    "\n",
    "bool_array = my_array >= 3\n",
    "\n",
    "new_array = my_array[bool_array]\n",
    "\n",
    "print(new_array)\n"
   ]
  },
  {
   "cell_type": "code",
   "execution_count": 13,
   "metadata": {},
   "outputs": [
    {
     "name": "stdout",
     "output_type": "stream",
     "text": [
      "[3 4 5]\n"
     ]
    }
   ],
   "source": [
    "# without creating a variable for the boolean array\n",
    "\n",
    "my_array = np.array([1,2,3,4,5])\n",
    "\n",
    "new_array = my_array[my_array >= 3]\n",
    "\n",
    "print(new_array)\n"
   ]
  },
  {
   "cell_type": "code",
   "execution_count": 15,
   "metadata": {},
   "outputs": [
    {
     "name": "stdout",
     "output_type": "stream",
     "text": [
      "[[ 1.    1.88 90.  ]\n",
      " [ 4.    1.78 80.  ]]\n"
     ]
    }
   ],
   "source": [
    "# Using boolean indexing to select rows from a 2D array\n",
    "\n",
    "my_array = np.array([[1, 1.88, 90], \n",
    "                     [2, 1.75, 65], \n",
    "                     [3, 1.62, 55],\n",
    "                     [4, 1.78, 80]])\n",
    "\n",
    "bool_array = my_array[:,1] > 1.75\n",
    "\n",
    "tall = my_array[bool_array]\n",
    "\n",
    "print(tall)\n"
   ]
  },
  {
   "cell_type": "markdown",
   "metadata": {},
   "source": [
    "### Task 1: Convert the lakers data to an array\n",
    "\n",
    "1. Import numpy.\n",
    "2. Run the cell below to create the lists `lakers_data`, `column_names` and `player_names`.\n",
    "3. Convert the lakers_data list to a numpy array."
   ]
  },
  {
   "cell_type": "code",
   "execution_count": 2,
   "metadata": {},
   "outputs": [],
   "source": [
    "# run this cell to load the lists into Python\n",
    "\n",
    "lakers_data = [[1.0, 1.0, 67.0, 34.6, 9.6, 19.4, 3.9, 5.7, 7.8, 10.2, 1.2, 0.5, 25.3],\n",
    "               [2.0, 4.0, 62.0, 34.4, 8.9, 17.7, 7.2, 8.5, 9.3, 3.2, 1.5, 2.3, 26.1],\n",
    "               [3.0, 2.0, 69.0, 25.5, 3.4, 7.3, 1.1, 1.5, 2.1, 1.6, 0.8, 0.2, 9.3],\n",
    "               [4.0, 4.0, 61.0, 25.0, 4.8, 11.0, 1.9, 2.5, 4.5, 1.3, 0.5, 0.4, 12.8],\n",
    "               [5.0, 2.0, 68.0, 24.8, 2.9, 7.0, 0.5, 0.7, 3.3, 1.3, 1.3, 0.5, 8.0],\n",
    "               [6.0, 2.0, 49.0, 24.2, 3.5, 7.8, 0.4, 0.5, 2.3, 1.3, 0.9, 0.1, 8.6],\n",
    "               [7.0, 2.0, 7.0, 23.6, 4.4, 10.4, 2.0, 2.3, 1.9, 2.4, 0.6, 0.6, 11.9],\n",
    "               [8.0, 1.0, 48.0, 20.5, 2.9, 6.8, 0.6, 0.9, 3.0, 5.0, 0.8, 0.0, 7.1],\n",
    "               [9.0, 5.0, 69.0, 18.9, 2.9, 4.0, 1.6, 3.1, 7.3, 0.7, 0.4, 1.1, 7.5],\n",
    "               [10.0, 2.0, 64.0, 18.4, 1.9, 4.5, 1.1, 1.5, 1.9, 1.9, 1.1, 0.3, 5.5],\n",
    "               [11.0, 5.0, 68.0, 16.6, 2.9, 4.5, 0.8, 1.2, 5.7, 0.5, 0.5, 1.4, 6.6],\n",
    "               [12.0, 4.0, 14.0, 14.2, 2.0, 4.9, 0.4, 0.4, 3.2, 0.6, 0.4, 0.4, 5.3],\n",
    "               [13.0, 3.0, 6.0, 13.5, 2.3, 5.0, 0.3, 0.7, 1.2, 1.0, 1.3, 0.2, 5.7],\n",
    "               [14.0, 2.0, 6.0, 13.2, 1.2, 3.7, 0.3, 0.3, 0.8, 0.5, 0.2, 0.0, 2.8],\n",
    "               [15.0, 1.0, 44.0, 11.5, 2.1, 4.9, 0.3, 0.3, 1.2, 1.1, 0.3, 0.0, 5.1],\n",
    "               [16.0, 2.0, 41.0, 11.1, 1.5, 3.9, 0.2, 0.4, 1.1, 0.3, 0.2, 0.1, 4.2],\n",
    "               [17.0, 5.0, 1.0, 9.0, 3.0, 6.0, 0.0, 0.0, 5.0, 1.0, 0.0, 0.0, 6.0],\n",
    "               [18.0, 4.0, 45.0, 8.1, 0.5, 1.3, 0.0, 0.0, 1.2, 0.6, 0.3, 0.1, 1.5],\n",
    "               [19.0, 4.0, 5.0, 4.0, 0.6, 0.6, 0.2, 0.4, 0.6, 0.4, 0.0, 0.0, 1.4],\n",
    "               [20.0, 2.0, 2.0, 2.5, 0.0, 0.5, 0.0, 0.0, 0.5, 0.0, 0.0, 0.0, 0.0]]\n",
    "\n",
    "column_names = ['Rank',\n",
    "                'Position',\n",
    "                'Games',\n",
    "                'Minutes',\n",
    "                'Shots made',\n",
    "                'Shots attempted',\n",
    "                'Free throws',\n",
    "                'Free throws attempted',\n",
    "                'Rebounds',\n",
    "                'Assists',\n",
    "                'Steals',\n",
    "                'Blocks',\n",
    "                'Points']\n",
    "\n",
    "player_names = ['LeBron James',\n",
    "                'Anthony Davis',\n",
    "                'Kentavious Caldwell-Pope',\n",
    "                'Kyle Kuzma',\n",
    "                'Danny Green',\n",
    "                'Avery Bradley',\n",
    "                'Dion Waiters',\n",
    "                'Rajon Rondo',\n",
    "                'Dwight Howard',\n",
    "                'Alex Caruso',\n",
    "                'JaVale McGee',\n",
    "                'Markieff Morris',\n",
    "                'Talen Horton-Tucker',\n",
    "                'J.R. Smith',\n",
    "                'Quinn Cook',\n",
    "                'Troy Daniels',\n",
    "                'Devontae Cacok',\n",
    "                'Jared Dudley',\n",
    "                'Kostas Antetokounmpo',\n",
    "                'Zach Norvell']"
   ]
  },
  {
   "cell_type": "code",
   "execution_count": 3,
   "metadata": {},
   "outputs": [],
   "source": [
    "# import numpy \n",
    "\n",
    "\n",
    "# convert lakers_data to lakers_np\n",
    "\n",
    "\n"
   ]
  },
  {
   "cell_type": "markdown",
   "metadata": {},
   "source": [
    "#### Printing columns and indices"
   ]
  },
  {
   "cell_type": "code",
   "execution_count": 18,
   "metadata": {},
   "outputs": [
    {
     "name": "stdout",
     "output_type": "stream",
     "text": [
      "0 Rank\n",
      "1 Position\n",
      "2 Games\n",
      "3 Minutes\n",
      "4 Shots made\n",
      "5 Shots attempted\n",
      "6 Free throws\n",
      "7 Free throws attempted\n",
      "8 Rebounds\n",
      "9 Assists\n",
      "10 Steals\n",
      "11 Blocks\n",
      "12 Points\n"
     ]
    }
   ],
   "source": [
    "for i in range(len(column_names)):\n",
    "    print(str(i), column_names[i])"
   ]
  },
  {
   "cell_type": "markdown",
   "metadata": {},
   "source": [
    "### Task 2: High scorers\n",
    "\n",
    "In this task you will use boolean indexing to create a subset of the players with the highest points per game average."
   ]
  },
  {
   "cell_type": "markdown",
   "metadata": {},
   "source": [
    "1. Assign the 'Points' column to the variable `ppg`.\n",
    "2. Print `ppg`.\n",
    "3. Create a subset of the `ppg` array for values above 20 and assign to `high_ppg`.\n",
    "4. Print `high_ppg`.\n",
    "5. Use the `.shape` attribute on `high_ppg` to get the number of elements in the array and assign to `n_high_scorers`.\n",
    "6. Print `n_high_scorers`."
   ]
  },
  {
   "cell_type": "code",
   "execution_count": null,
   "metadata": {},
   "outputs": [],
   "source": [
    "# assign points column to variable ppg\n",
    "\n",
    "\n",
    "# Print ppg\n",
    "\n",
    "\n",
    "# Create a subset of the ppg array for values above 20 and assign to high_ppg\n",
    "\n",
    "\n",
    "# Print high_ppg.\n",
    "\n",
    "\n",
    "# Use the .shape attribute on high_ppg to get the number of elements in the array and assign to n_high_scorers.\n",
    "\n",
    "\n",
    "# Print n_high_scorers.\n",
    "\n"
   ]
  },
  {
   "cell_type": "markdown",
   "metadata": {},
   "source": [
    "### Task 3: Player efficiency\n",
    "\n",
    "Use boolean indexing and array-methods or numpy functions to explore player efficiency, as indicated by points per minute."
   ]
  },
  {
   "cell_type": "markdown",
   "metadata": {},
   "source": [
    "1. Create a new array for the points per minute and assign to the variable `ppm`. You will have to use the minutes per game and points per game column to calculate the points per minute.\n",
    "2. Print `ppm`.\n",
    "3. Calculate a lower bound for the points per minute, by subtracting one standard deviation from the mean of `ppm`. Assign the result to the variable `lower_bound`.\n",
    "4. Calculate an upper bound for the points per minute, by adding one standard deviation from the mean of `ppm`. Assign the result to the variable `upper_bound`.\n",
    "5. Create a subset called `high_ppm` for the points per minutes that are higher than the `upper_bound`.\n",
    "6. Print `high_ppm`.\n",
    "7. Create a subset called `low_ppm` for the points per minutes that are lower than the `lower_bound`.\n",
    "8. Print `low_ppm`."
   ]
  },
  {
   "cell_type": "code",
   "execution_count": null,
   "metadata": {},
   "outputs": [],
   "source": [
    "# Create a new array for the points per minute and assign to the variable ppm.\n",
    "\n",
    "\n",
    "# Print ppm.\n",
    "\n",
    "\n",
    "# Calculate a lower bound for the points per minute. Assign the result to the variable lower_bound.\n",
    "\n",
    "\n",
    "# Calculate an upper bound for the points per minute. Assign the result to the variable upper_bound.\n",
    "\n",
    "\n",
    "# Create a subset called high_ppm for the points per minutes that are higher than the upper_bound.\n",
    "\n",
    "\n",
    "# Print high_ppm.\n",
    "\n",
    "\n",
    "# Create a subset called low_ppm for the points per minutes that are lower than the lower_bound.\n",
    "\n",
    "\n",
    "# Print low_ppm."
   ]
  },
  {
   "cell_type": "markdown",
   "metadata": {},
   "source": [
    "### Task 4: Comparing small and big players\n",
    "\n",
    "In this task you will compare short players (position 1 and 2) and tall players (position 3, 4 and 5) on their overall production (rebounds+assists+points)."
   ]
  },
  {
   "cell_type": "markdown",
   "metadata": {},
   "source": [
    "1. Create a subset of the short players (position 1 and 2) and assign to the variable `short`.\n",
    "2. Print `short`.\n",
    "3. Create a subset of the tall players (position 3, 4 and 5) and assign to the variable `tall`.\n",
    "4. Print `tall`.\n",
    "5. Calculate the average points, rebounds and assists for short players and assign to `short_pra`. You will have to set the axis argument caluclate the mean for each column. Otherwise Numpy will calculate a single mean for all values in the subset.\n",
    "6. Print `short_pra`.\n",
    "7. Calculate the average points, rebounds and assists for tall players and assign to `tall_pra`.\n",
    "8. Print `tall_pra`."
   ]
  },
  {
   "cell_type": "code",
   "execution_count": null,
   "metadata": {},
   "outputs": [],
   "source": [
    "# Create a subset of the short players (position 1 and 2) and assign to the variable short.\n",
    "\n",
    "\n",
    "# Print short.\n",
    "\n",
    "\n",
    "# Create a subset of the tall players (position 3, 4 and 5) and assign to the variable tall.\n",
    "\n",
    "\n",
    "# Print tall.\n",
    "\n",
    "\n",
    "# Calculate the average points, rebounds and assists for short players and assign to short_pra.\n",
    "\n",
    "\n",
    "# Print short_pra.\n",
    "\n",
    "\n",
    "# Calculate the average points, rebounds and assists for tall players and assign to tall_pra.\n",
    "\n",
    "\n",
    "# Print tall_pra."
   ]
  }
 ],
 "metadata": {
  "kernelspec": {
   "display_name": "Python 3",
   "language": "python",
   "name": "python3"
  },
  "language_info": {
   "codemirror_mode": {
    "name": "ipython",
    "version": 3
   },
   "file_extension": ".py",
   "mimetype": "text/x-python",
   "name": "python",
   "nbconvert_exporter": "python",
   "pygments_lexer": "ipython3",
   "version": "3.8.5"
  }
 },
 "nbformat": 4,
 "nbformat_minor": 5
}
