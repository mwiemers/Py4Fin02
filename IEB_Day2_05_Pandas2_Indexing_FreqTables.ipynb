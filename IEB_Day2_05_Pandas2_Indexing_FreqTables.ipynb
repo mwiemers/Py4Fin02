{
 "cells": [
  {
   "cell_type": "markdown",
   "metadata": {},
   "source": [
    "# Pandas - Subsetting and frequency tables"
   ]
  },
  {
   "cell_type": "markdown",
   "metadata": {},
   "source": [
    "In this unit, you are going to learn how to use the index to subset data and create frequency tables\n",
    "\n",
    "You will learn about:\n",
    "- setting a column as the index\n",
    "- using the index to create a subset of the data\n",
    "- Creating frequency tables"
   ]
  },
  {
   "cell_type": "markdown",
   "metadata": {},
   "source": [
    "### Examples from the introduction on frequency tables and subsetting"
   ]
  },
  {
   "cell_type": "code",
   "execution_count": 42,
   "metadata": {
    "scrolled": false
   },
   "outputs": [
    {
     "data": {
      "text/html": [
       "<div>\n",
       "<style scoped>\n",
       "    .dataframe tbody tr th:only-of-type {\n",
       "        vertical-align: middle;\n",
       "    }\n",
       "\n",
       "    .dataframe tbody tr th {\n",
       "        vertical-align: top;\n",
       "    }\n",
       "\n",
       "    .dataframe thead th {\n",
       "        text-align: right;\n",
       "    }\n",
       "</style>\n",
       "<table border=\"1\" class=\"dataframe\">\n",
       "  <thead>\n",
       "    <tr style=\"text-align: right;\">\n",
       "      <th></th>\n",
       "      <th>company</th>\n",
       "      <th>rank</th>\n",
       "      <th>revenues</th>\n",
       "      <th>revenue_change</th>\n",
       "      <th>profits</th>\n",
       "      <th>assets</th>\n",
       "      <th>profit_change</th>\n",
       "      <th>sector</th>\n",
       "      <th>country</th>\n",
       "      <th>years_on_global_500_list</th>\n",
       "      <th>employees</th>\n",
       "      <th>total_stockholder_equity</th>\n",
       "    </tr>\n",
       "  </thead>\n",
       "  <tbody>\n",
       "    <tr>\n",
       "      <th>0</th>\n",
       "      <td>Walmart</td>\n",
       "      <td>1</td>\n",
       "      <td>485873</td>\n",
       "      <td>0.8</td>\n",
       "      <td>13643.0</td>\n",
       "      <td>198825</td>\n",
       "      <td>-7.2</td>\n",
       "      <td>Retailing</td>\n",
       "      <td>USA</td>\n",
       "      <td>23</td>\n",
       "      <td>2300000</td>\n",
       "      <td>77798</td>\n",
       "    </tr>\n",
       "    <tr>\n",
       "      <th>1</th>\n",
       "      <td>State Grid</td>\n",
       "      <td>2</td>\n",
       "      <td>315199</td>\n",
       "      <td>-4.4</td>\n",
       "      <td>9571.3</td>\n",
       "      <td>489838</td>\n",
       "      <td>-6.2</td>\n",
       "      <td>Energy</td>\n",
       "      <td>China</td>\n",
       "      <td>17</td>\n",
       "      <td>926067</td>\n",
       "      <td>209456</td>\n",
       "    </tr>\n",
       "    <tr>\n",
       "      <th>2</th>\n",
       "      <td>Sinopec Group</td>\n",
       "      <td>3</td>\n",
       "      <td>267518</td>\n",
       "      <td>-9.1</td>\n",
       "      <td>1257.9</td>\n",
       "      <td>310726</td>\n",
       "      <td>-65.0</td>\n",
       "      <td>Energy</td>\n",
       "      <td>China</td>\n",
       "      <td>19</td>\n",
       "      <td>713288</td>\n",
       "      <td>106523</td>\n",
       "    </tr>\n",
       "    <tr>\n",
       "      <th>3</th>\n",
       "      <td>China National Petroleum</td>\n",
       "      <td>4</td>\n",
       "      <td>262573</td>\n",
       "      <td>-12.3</td>\n",
       "      <td>1867.5</td>\n",
       "      <td>585619</td>\n",
       "      <td>-73.7</td>\n",
       "      <td>Energy</td>\n",
       "      <td>China</td>\n",
       "      <td>17</td>\n",
       "      <td>1512048</td>\n",
       "      <td>301893</td>\n",
       "    </tr>\n",
       "    <tr>\n",
       "      <th>4</th>\n",
       "      <td>Toyota Motor</td>\n",
       "      <td>5</td>\n",
       "      <td>254694</td>\n",
       "      <td>7.7</td>\n",
       "      <td>16899.3</td>\n",
       "      <td>437575</td>\n",
       "      <td>-12.3</td>\n",
       "      <td>Motor Vehicles &amp; Parts</td>\n",
       "      <td>Japan</td>\n",
       "      <td>23</td>\n",
       "      <td>364445</td>\n",
       "      <td>157210</td>\n",
       "    </tr>\n",
       "  </tbody>\n",
       "</table>\n",
       "</div>"
      ],
      "text/plain": [
       "                    company  rank  revenues  revenue_change  profits  assets  \\\n",
       "0                   Walmart     1    485873             0.8  13643.0  198825   \n",
       "1                State Grid     2    315199            -4.4   9571.3  489838   \n",
       "2             Sinopec Group     3    267518            -9.1   1257.9  310726   \n",
       "3  China National Petroleum     4    262573           -12.3   1867.5  585619   \n",
       "4              Toyota Motor     5    254694             7.7  16899.3  437575   \n",
       "\n",
       "   profit_change                  sector country  years_on_global_500_list  \\\n",
       "0           -7.2               Retailing     USA                        23   \n",
       "1           -6.2                  Energy   China                        17   \n",
       "2          -65.0                  Energy   China                        19   \n",
       "3          -73.7                  Energy   China                        17   \n",
       "4          -12.3  Motor Vehicles & Parts   Japan                        23   \n",
       "\n",
       "   employees  total_stockholder_equity  \n",
       "0    2300000                     77798  \n",
       "1     926067                    209456  \n",
       "2     713288                    106523  \n",
       "3    1512048                    301893  \n",
       "4     364445                    157210  "
      ]
     },
     "execution_count": 42,
     "metadata": {},
     "output_type": "execute_result"
    }
   ],
   "source": [
    "import pandas as pd\n",
    "\n",
    "f500 = pd.read_csv('f500.csv')\n",
    "\n",
    "f500.head()"
   ]
  },
  {
   "cell_type": "markdown",
   "metadata": {},
   "source": [
    "#### Frequency table"
   ]
  },
  {
   "cell_type": "code",
   "execution_count": 43,
   "metadata": {},
   "outputs": [
    {
     "data": {
      "text/plain": [
       "USA             132\n",
       "China           109\n",
       "Japan            51\n",
       "France           29\n",
       "Germany          29\n",
       "Britain          24\n",
       "South Korea      15\n",
       "Switzerland      14\n",
       "Netherlands      14\n",
       "Canada           11\n",
       "Spain             9\n",
       "India             7\n",
       "Italy             7\n",
       "Australia         7\n",
       "Brazil            7\n",
       "Taiwan            6\n",
       "Ireland           4\n",
       "Russia            4\n",
       "Singapore         3\n",
       "Sweden            3\n",
       "Mexico            2\n",
       "U.A.E             1\n",
       "Thailand          1\n",
       "Luxembourg        1\n",
       "Turkey            1\n",
       "Saudi Arabia      1\n",
       "Finland           1\n",
       "Venezuela         1\n",
       "Norway            1\n",
       "Indonesia         1\n",
       "Belgium           1\n",
       "Denmark           1\n",
       "Malaysia          1\n",
       "Israel            1\n",
       "Name: country, dtype: int64"
      ]
     },
     "execution_count": 43,
     "metadata": {},
     "output_type": "execute_result"
    }
   ],
   "source": [
    "f500['country'].value_counts()"
   ]
  },
  {
   "cell_type": "markdown",
   "metadata": {},
   "source": [
    "#### Only top 10 frequencies"
   ]
  },
  {
   "cell_type": "code",
   "execution_count": 44,
   "metadata": {
    "scrolled": true
   },
   "outputs": [
    {
     "data": {
      "text/plain": [
       "USA            132\n",
       "China          109\n",
       "Japan           51\n",
       "France          29\n",
       "Germany         29\n",
       "Britain         24\n",
       "South Korea     15\n",
       "Switzerland     14\n",
       "Netherlands     14\n",
       "Canada          11\n",
       "Name: country, dtype: int64"
      ]
     },
     "execution_count": 44,
     "metadata": {},
     "output_type": "execute_result"
    }
   ],
   "source": [
    "f500['country'].value_counts()[:10]"
   ]
  },
  {
   "cell_type": "markdown",
   "metadata": {},
   "source": [
    "### Subsetting with the index"
   ]
  },
  {
   "cell_type": "markdown",
   "metadata": {},
   "source": [
    "#### Setting a column to the index"
   ]
  },
  {
   "cell_type": "code",
   "execution_count": 45,
   "metadata": {
    "scrolled": false
   },
   "outputs": [
    {
     "data": {
      "text/html": [
       "<div>\n",
       "<style scoped>\n",
       "    .dataframe tbody tr th:only-of-type {\n",
       "        vertical-align: middle;\n",
       "    }\n",
       "\n",
       "    .dataframe tbody tr th {\n",
       "        vertical-align: top;\n",
       "    }\n",
       "\n",
       "    .dataframe thead th {\n",
       "        text-align: right;\n",
       "    }\n",
       "</style>\n",
       "<table border=\"1\" class=\"dataframe\">\n",
       "  <thead>\n",
       "    <tr style=\"text-align: right;\">\n",
       "      <th></th>\n",
       "      <th>company</th>\n",
       "      <th>rank</th>\n",
       "      <th>revenues</th>\n",
       "      <th>revenue_change</th>\n",
       "      <th>profits</th>\n",
       "      <th>assets</th>\n",
       "      <th>profit_change</th>\n",
       "      <th>country</th>\n",
       "      <th>years_on_global_500_list</th>\n",
       "      <th>employees</th>\n",
       "      <th>total_stockholder_equity</th>\n",
       "    </tr>\n",
       "    <tr>\n",
       "      <th>sector</th>\n",
       "      <th></th>\n",
       "      <th></th>\n",
       "      <th></th>\n",
       "      <th></th>\n",
       "      <th></th>\n",
       "      <th></th>\n",
       "      <th></th>\n",
       "      <th></th>\n",
       "      <th></th>\n",
       "      <th></th>\n",
       "      <th></th>\n",
       "    </tr>\n",
       "  </thead>\n",
       "  <tbody>\n",
       "    <tr>\n",
       "      <th>Retailing</th>\n",
       "      <td>Walmart</td>\n",
       "      <td>1</td>\n",
       "      <td>485873</td>\n",
       "      <td>0.8</td>\n",
       "      <td>13643.0</td>\n",
       "      <td>198825</td>\n",
       "      <td>-7.2</td>\n",
       "      <td>USA</td>\n",
       "      <td>23</td>\n",
       "      <td>2300000</td>\n",
       "      <td>77798</td>\n",
       "    </tr>\n",
       "    <tr>\n",
       "      <th>Energy</th>\n",
       "      <td>State Grid</td>\n",
       "      <td>2</td>\n",
       "      <td>315199</td>\n",
       "      <td>-4.4</td>\n",
       "      <td>9571.3</td>\n",
       "      <td>489838</td>\n",
       "      <td>-6.2</td>\n",
       "      <td>China</td>\n",
       "      <td>17</td>\n",
       "      <td>926067</td>\n",
       "      <td>209456</td>\n",
       "    </tr>\n",
       "    <tr>\n",
       "      <th>Energy</th>\n",
       "      <td>Sinopec Group</td>\n",
       "      <td>3</td>\n",
       "      <td>267518</td>\n",
       "      <td>-9.1</td>\n",
       "      <td>1257.9</td>\n",
       "      <td>310726</td>\n",
       "      <td>-65.0</td>\n",
       "      <td>China</td>\n",
       "      <td>19</td>\n",
       "      <td>713288</td>\n",
       "      <td>106523</td>\n",
       "    </tr>\n",
       "    <tr>\n",
       "      <th>Energy</th>\n",
       "      <td>China National Petroleum</td>\n",
       "      <td>4</td>\n",
       "      <td>262573</td>\n",
       "      <td>-12.3</td>\n",
       "      <td>1867.5</td>\n",
       "      <td>585619</td>\n",
       "      <td>-73.7</td>\n",
       "      <td>China</td>\n",
       "      <td>17</td>\n",
       "      <td>1512048</td>\n",
       "      <td>301893</td>\n",
       "    </tr>\n",
       "    <tr>\n",
       "      <th>Motor Vehicles &amp; Parts</th>\n",
       "      <td>Toyota Motor</td>\n",
       "      <td>5</td>\n",
       "      <td>254694</td>\n",
       "      <td>7.7</td>\n",
       "      <td>16899.3</td>\n",
       "      <td>437575</td>\n",
       "      <td>-12.3</td>\n",
       "      <td>Japan</td>\n",
       "      <td>23</td>\n",
       "      <td>364445</td>\n",
       "      <td>157210</td>\n",
       "    </tr>\n",
       "  </tbody>\n",
       "</table>\n",
       "</div>"
      ],
      "text/plain": [
       "                                         company  rank  revenues  \\\n",
       "sector                                                             \n",
       "Retailing                                Walmart     1    485873   \n",
       "Energy                                State Grid     2    315199   \n",
       "Energy                             Sinopec Group     3    267518   \n",
       "Energy                  China National Petroleum     4    262573   \n",
       "Motor Vehicles & Parts              Toyota Motor     5    254694   \n",
       "\n",
       "                        revenue_change  profits  assets  profit_change  \\\n",
       "sector                                                                   \n",
       "Retailing                          0.8  13643.0  198825           -7.2   \n",
       "Energy                            -4.4   9571.3  489838           -6.2   \n",
       "Energy                            -9.1   1257.9  310726          -65.0   \n",
       "Energy                           -12.3   1867.5  585619          -73.7   \n",
       "Motor Vehicles & Parts             7.7  16899.3  437575          -12.3   \n",
       "\n",
       "                       country  years_on_global_500_list  employees  \\\n",
       "sector                                                                \n",
       "Retailing                  USA                        23    2300000   \n",
       "Energy                   China                        17     926067   \n",
       "Energy                   China                        19     713288   \n",
       "Energy                   China                        17    1512048   \n",
       "Motor Vehicles & Parts   Japan                        23     364445   \n",
       "\n",
       "                        total_stockholder_equity  \n",
       "sector                                            \n",
       "Retailing                                  77798  \n",
       "Energy                                    209456  \n",
       "Energy                                    106523  \n",
       "Energy                                    301893  \n",
       "Motor Vehicles & Parts                    157210  "
      ]
     },
     "execution_count": 45,
     "metadata": {},
     "output_type": "execute_result"
    }
   ],
   "source": [
    "f500 = f500.set_index('sector')\n",
    "f500.head()"
   ]
  },
  {
   "cell_type": "markdown",
   "metadata": {},
   "source": [
    "#### Creating a subset with the index"
   ]
  },
  {
   "cell_type": "code",
   "execution_count": 46,
   "metadata": {},
   "outputs": [
    {
     "data": {
      "text/html": [
       "<div>\n",
       "<style scoped>\n",
       "    .dataframe tbody tr th:only-of-type {\n",
       "        vertical-align: middle;\n",
       "    }\n",
       "\n",
       "    .dataframe tbody tr th {\n",
       "        vertical-align: top;\n",
       "    }\n",
       "\n",
       "    .dataframe thead th {\n",
       "        text-align: right;\n",
       "    }\n",
       "</style>\n",
       "<table border=\"1\" class=\"dataframe\">\n",
       "  <thead>\n",
       "    <tr style=\"text-align: right;\">\n",
       "      <th></th>\n",
       "      <th>company</th>\n",
       "      <th>rank</th>\n",
       "      <th>revenues</th>\n",
       "      <th>revenue_change</th>\n",
       "      <th>profits</th>\n",
       "      <th>assets</th>\n",
       "      <th>profit_change</th>\n",
       "      <th>country</th>\n",
       "      <th>years_on_global_500_list</th>\n",
       "      <th>employees</th>\n",
       "      <th>total_stockholder_equity</th>\n",
       "    </tr>\n",
       "    <tr>\n",
       "      <th>sector</th>\n",
       "      <th></th>\n",
       "      <th></th>\n",
       "      <th></th>\n",
       "      <th></th>\n",
       "      <th></th>\n",
       "      <th></th>\n",
       "      <th></th>\n",
       "      <th></th>\n",
       "      <th></th>\n",
       "      <th></th>\n",
       "      <th></th>\n",
       "    </tr>\n",
       "  </thead>\n",
       "  <tbody>\n",
       "    <tr>\n",
       "      <th>Technology</th>\n",
       "      <td>Apple</td>\n",
       "      <td>9</td>\n",
       "      <td>215639</td>\n",
       "      <td>-7.7</td>\n",
       "      <td>45687.0</td>\n",
       "      <td>321686</td>\n",
       "      <td>-14.4</td>\n",
       "      <td>USA</td>\n",
       "      <td>15</td>\n",
       "      <td>116000</td>\n",
       "      <td>128249</td>\n",
       "    </tr>\n",
       "    <tr>\n",
       "      <th>Technology</th>\n",
       "      <td>Samsung Electronics</td>\n",
       "      <td>15</td>\n",
       "      <td>173957</td>\n",
       "      <td>-2.0</td>\n",
       "      <td>19316.5</td>\n",
       "      <td>217104</td>\n",
       "      <td>16.8</td>\n",
       "      <td>South Korea</td>\n",
       "      <td>23</td>\n",
       "      <td>325000</td>\n",
       "      <td>154376</td>\n",
       "    </tr>\n",
       "    <tr>\n",
       "      <th>Technology</th>\n",
       "      <td>Amazon.com</td>\n",
       "      <td>26</td>\n",
       "      <td>135987</td>\n",
       "      <td>27.1</td>\n",
       "      <td>2371.0</td>\n",
       "      <td>83402</td>\n",
       "      <td>297.8</td>\n",
       "      <td>USA</td>\n",
       "      <td>9</td>\n",
       "      <td>341400</td>\n",
       "      <td>19285</td>\n",
       "    </tr>\n",
       "    <tr>\n",
       "      <th>Technology</th>\n",
       "      <td>Hon Hai Precision Industry</td>\n",
       "      <td>27</td>\n",
       "      <td>135129</td>\n",
       "      <td>-4.3</td>\n",
       "      <td>4608.8</td>\n",
       "      <td>80436</td>\n",
       "      <td>-0.4</td>\n",
       "      <td>Taiwan</td>\n",
       "      <td>13</td>\n",
       "      <td>726772</td>\n",
       "      <td>33476</td>\n",
       "    </tr>\n",
       "    <tr>\n",
       "      <th>Technology</th>\n",
       "      <td>Alphabet</td>\n",
       "      <td>65</td>\n",
       "      <td>90272</td>\n",
       "      <td>20.4</td>\n",
       "      <td>19478.0</td>\n",
       "      <td>167497</td>\n",
       "      <td>19.1</td>\n",
       "      <td>USA</td>\n",
       "      <td>9</td>\n",
       "      <td>72053</td>\n",
       "      <td>139036</td>\n",
       "    </tr>\n",
       "  </tbody>\n",
       "</table>\n",
       "</div>"
      ],
      "text/plain": [
       "                               company  rank  revenues  revenue_change  \\\n",
       "sector                                                                   \n",
       "Technology                       Apple     9    215639            -7.7   \n",
       "Technology         Samsung Electronics    15    173957            -2.0   \n",
       "Technology                  Amazon.com    26    135987            27.1   \n",
       "Technology  Hon Hai Precision Industry    27    135129            -4.3   \n",
       "Technology                    Alphabet    65     90272            20.4   \n",
       "\n",
       "            profits  assets  profit_change      country  \\\n",
       "sector                                                    \n",
       "Technology  45687.0  321686          -14.4          USA   \n",
       "Technology  19316.5  217104           16.8  South Korea   \n",
       "Technology   2371.0   83402          297.8          USA   \n",
       "Technology   4608.8   80436           -0.4       Taiwan   \n",
       "Technology  19478.0  167497           19.1          USA   \n",
       "\n",
       "            years_on_global_500_list  employees  total_stockholder_equity  \n",
       "sector                                                                     \n",
       "Technology                        15     116000                    128249  \n",
       "Technology                        23     325000                    154376  \n",
       "Technology                         9     341400                     19285  \n",
       "Technology                        13     726772                     33476  \n",
       "Technology                         9      72053                    139036  "
      ]
     },
     "execution_count": 46,
     "metadata": {},
     "output_type": "execute_result"
    }
   ],
   "source": [
    "tech = f500.loc['Technology']\n",
    "tech.head()"
   ]
  },
  {
   "cell_type": "markdown",
   "metadata": {},
   "source": [
    "#### Re-setting the index"
   ]
  },
  {
   "cell_type": "code",
   "execution_count": 47,
   "metadata": {
    "scrolled": true
   },
   "outputs": [
    {
     "data": {
      "text/html": [
       "<div>\n",
       "<style scoped>\n",
       "    .dataframe tbody tr th:only-of-type {\n",
       "        vertical-align: middle;\n",
       "    }\n",
       "\n",
       "    .dataframe tbody tr th {\n",
       "        vertical-align: top;\n",
       "    }\n",
       "\n",
       "    .dataframe thead th {\n",
       "        text-align: right;\n",
       "    }\n",
       "</style>\n",
       "<table border=\"1\" class=\"dataframe\">\n",
       "  <thead>\n",
       "    <tr style=\"text-align: right;\">\n",
       "      <th></th>\n",
       "      <th>sector</th>\n",
       "      <th>company</th>\n",
       "      <th>rank</th>\n",
       "      <th>revenues</th>\n",
       "      <th>revenue_change</th>\n",
       "      <th>profits</th>\n",
       "      <th>assets</th>\n",
       "      <th>profit_change</th>\n",
       "      <th>country</th>\n",
       "      <th>years_on_global_500_list</th>\n",
       "      <th>employees</th>\n",
       "      <th>total_stockholder_equity</th>\n",
       "    </tr>\n",
       "  </thead>\n",
       "  <tbody>\n",
       "    <tr>\n",
       "      <th>0</th>\n",
       "      <td>Retailing</td>\n",
       "      <td>Walmart</td>\n",
       "      <td>1</td>\n",
       "      <td>485873</td>\n",
       "      <td>0.8</td>\n",
       "      <td>13643.0</td>\n",
       "      <td>198825</td>\n",
       "      <td>-7.2</td>\n",
       "      <td>USA</td>\n",
       "      <td>23</td>\n",
       "      <td>2300000</td>\n",
       "      <td>77798</td>\n",
       "    </tr>\n",
       "    <tr>\n",
       "      <th>1</th>\n",
       "      <td>Energy</td>\n",
       "      <td>State Grid</td>\n",
       "      <td>2</td>\n",
       "      <td>315199</td>\n",
       "      <td>-4.4</td>\n",
       "      <td>9571.3</td>\n",
       "      <td>489838</td>\n",
       "      <td>-6.2</td>\n",
       "      <td>China</td>\n",
       "      <td>17</td>\n",
       "      <td>926067</td>\n",
       "      <td>209456</td>\n",
       "    </tr>\n",
       "    <tr>\n",
       "      <th>2</th>\n",
       "      <td>Energy</td>\n",
       "      <td>Sinopec Group</td>\n",
       "      <td>3</td>\n",
       "      <td>267518</td>\n",
       "      <td>-9.1</td>\n",
       "      <td>1257.9</td>\n",
       "      <td>310726</td>\n",
       "      <td>-65.0</td>\n",
       "      <td>China</td>\n",
       "      <td>19</td>\n",
       "      <td>713288</td>\n",
       "      <td>106523</td>\n",
       "    </tr>\n",
       "    <tr>\n",
       "      <th>3</th>\n",
       "      <td>Energy</td>\n",
       "      <td>China National Petroleum</td>\n",
       "      <td>4</td>\n",
       "      <td>262573</td>\n",
       "      <td>-12.3</td>\n",
       "      <td>1867.5</td>\n",
       "      <td>585619</td>\n",
       "      <td>-73.7</td>\n",
       "      <td>China</td>\n",
       "      <td>17</td>\n",
       "      <td>1512048</td>\n",
       "      <td>301893</td>\n",
       "    </tr>\n",
       "    <tr>\n",
       "      <th>4</th>\n",
       "      <td>Motor Vehicles &amp; Parts</td>\n",
       "      <td>Toyota Motor</td>\n",
       "      <td>5</td>\n",
       "      <td>254694</td>\n",
       "      <td>7.7</td>\n",
       "      <td>16899.3</td>\n",
       "      <td>437575</td>\n",
       "      <td>-12.3</td>\n",
       "      <td>Japan</td>\n",
       "      <td>23</td>\n",
       "      <td>364445</td>\n",
       "      <td>157210</td>\n",
       "    </tr>\n",
       "  </tbody>\n",
       "</table>\n",
       "</div>"
      ],
      "text/plain": [
       "                   sector                   company  rank  revenues  \\\n",
       "0               Retailing                   Walmart     1    485873   \n",
       "1                  Energy                State Grid     2    315199   \n",
       "2                  Energy             Sinopec Group     3    267518   \n",
       "3                  Energy  China National Petroleum     4    262573   \n",
       "4  Motor Vehicles & Parts              Toyota Motor     5    254694   \n",
       "\n",
       "   revenue_change  profits  assets  profit_change country  \\\n",
       "0             0.8  13643.0  198825           -7.2     USA   \n",
       "1            -4.4   9571.3  489838           -6.2   China   \n",
       "2            -9.1   1257.9  310726          -65.0   China   \n",
       "3           -12.3   1867.5  585619          -73.7   China   \n",
       "4             7.7  16899.3  437575          -12.3   Japan   \n",
       "\n",
       "   years_on_global_500_list  employees  total_stockholder_equity  \n",
       "0                        23    2300000                     77798  \n",
       "1                        17     926067                    209456  \n",
       "2                        19     713288                    106523  \n",
       "3                        17    1512048                    301893  \n",
       "4                        23     364445                    157210  "
      ]
     },
     "execution_count": 47,
     "metadata": {},
     "output_type": "execute_result"
    }
   ],
   "source": [
    "f500 = f500.reset_index()\n",
    "f500.head()"
   ]
  },
  {
   "cell_type": "markdown",
   "metadata": {},
   "source": [
    "#### Other ways to create subsets"
   ]
  },
  {
   "cell_type": "code",
   "execution_count": 49,
   "metadata": {},
   "outputs": [
    {
     "name": "stdout",
     "output_type": "stream",
     "text": [
      "sector                      Motor Vehicles & Parts\n",
      "company                               Toyota Motor\n",
      "rank                                             5\n",
      "revenues                                    254694\n",
      "revenue_change                                 7.7\n",
      "profits                                    16899.3\n",
      "assets                                      437575\n",
      "profit_change                                -12.3\n",
      "country                                      Japan\n",
      "years_on_global_500_list                        23\n",
      "employees                                   364445\n",
      "total_stockholder_equity                    157210\n",
      "Name: 4, dtype: object\n"
     ]
    }
   ],
   "source": [
    "# using numerical index\n",
    "toyota = f500.iloc[4]\n",
    "print(toyota)"
   ]
  },
  {
   "cell_type": "code",
   "execution_count": 51,
   "metadata": {
    "scrolled": true
   },
   "outputs": [
    {
     "data": {
      "text/html": [
       "<div>\n",
       "<style scoped>\n",
       "    .dataframe tbody tr th:only-of-type {\n",
       "        vertical-align: middle;\n",
       "    }\n",
       "\n",
       "    .dataframe tbody tr th {\n",
       "        vertical-align: top;\n",
       "    }\n",
       "\n",
       "    .dataframe thead th {\n",
       "        text-align: right;\n",
       "    }\n",
       "</style>\n",
       "<table border=\"1\" class=\"dataframe\">\n",
       "  <thead>\n",
       "    <tr style=\"text-align: right;\">\n",
       "      <th></th>\n",
       "      <th>sector</th>\n",
       "      <th>company</th>\n",
       "      <th>rank</th>\n",
       "      <th>revenues</th>\n",
       "      <th>revenue_change</th>\n",
       "      <th>profits</th>\n",
       "      <th>assets</th>\n",
       "      <th>profit_change</th>\n",
       "      <th>country</th>\n",
       "      <th>years_on_global_500_list</th>\n",
       "      <th>employees</th>\n",
       "      <th>total_stockholder_equity</th>\n",
       "    </tr>\n",
       "  </thead>\n",
       "  <tbody>\n",
       "    <tr>\n",
       "      <th>8</th>\n",
       "      <td>Technology</td>\n",
       "      <td>Apple</td>\n",
       "      <td>9</td>\n",
       "      <td>215639</td>\n",
       "      <td>-7.7</td>\n",
       "      <td>45687.0</td>\n",
       "      <td>321686</td>\n",
       "      <td>-14.4</td>\n",
       "      <td>USA</td>\n",
       "      <td>15</td>\n",
       "      <td>116000</td>\n",
       "      <td>128249</td>\n",
       "    </tr>\n",
       "    <tr>\n",
       "      <th>14</th>\n",
       "      <td>Technology</td>\n",
       "      <td>Samsung Electronics</td>\n",
       "      <td>15</td>\n",
       "      <td>173957</td>\n",
       "      <td>-2.0</td>\n",
       "      <td>19316.5</td>\n",
       "      <td>217104</td>\n",
       "      <td>16.8</td>\n",
       "      <td>South Korea</td>\n",
       "      <td>23</td>\n",
       "      <td>325000</td>\n",
       "      <td>154376</td>\n",
       "    </tr>\n",
       "    <tr>\n",
       "      <th>25</th>\n",
       "      <td>Technology</td>\n",
       "      <td>Amazon.com</td>\n",
       "      <td>26</td>\n",
       "      <td>135987</td>\n",
       "      <td>27.1</td>\n",
       "      <td>2371.0</td>\n",
       "      <td>83402</td>\n",
       "      <td>297.8</td>\n",
       "      <td>USA</td>\n",
       "      <td>9</td>\n",
       "      <td>341400</td>\n",
       "      <td>19285</td>\n",
       "    </tr>\n",
       "    <tr>\n",
       "      <th>26</th>\n",
       "      <td>Technology</td>\n",
       "      <td>Hon Hai Precision Industry</td>\n",
       "      <td>27</td>\n",
       "      <td>135129</td>\n",
       "      <td>-4.3</td>\n",
       "      <td>4608.8</td>\n",
       "      <td>80436</td>\n",
       "      <td>-0.4</td>\n",
       "      <td>Taiwan</td>\n",
       "      <td>13</td>\n",
       "      <td>726772</td>\n",
       "      <td>33476</td>\n",
       "    </tr>\n",
       "    <tr>\n",
       "      <th>64</th>\n",
       "      <td>Technology</td>\n",
       "      <td>Alphabet</td>\n",
       "      <td>65</td>\n",
       "      <td>90272</td>\n",
       "      <td>20.4</td>\n",
       "      <td>19478.0</td>\n",
       "      <td>167497</td>\n",
       "      <td>19.1</td>\n",
       "      <td>USA</td>\n",
       "      <td>9</td>\n",
       "      <td>72053</td>\n",
       "      <td>139036</td>\n",
       "    </tr>\n",
       "  </tbody>\n",
       "</table>\n",
       "</div>"
      ],
      "text/plain": [
       "        sector                     company  rank  revenues  revenue_change  \\\n",
       "8   Technology                       Apple     9    215639            -7.7   \n",
       "14  Technology         Samsung Electronics    15    173957            -2.0   \n",
       "25  Technology                  Amazon.com    26    135987            27.1   \n",
       "26  Technology  Hon Hai Precision Industry    27    135129            -4.3   \n",
       "64  Technology                    Alphabet    65     90272            20.4   \n",
       "\n",
       "    profits  assets  profit_change      country  years_on_global_500_list  \\\n",
       "8   45687.0  321686          -14.4          USA                        15   \n",
       "14  19316.5  217104           16.8  South Korea                        23   \n",
       "25   2371.0   83402          297.8          USA                         9   \n",
       "26   4608.8   80436           -0.4       Taiwan                        13   \n",
       "64  19478.0  167497           19.1          USA                         9   \n",
       "\n",
       "    employees  total_stockholder_equity  \n",
       "8      116000                    128249  \n",
       "14     325000                    154376  \n",
       "25     341400                     19285  \n",
       "26     726772                     33476  \n",
       "64      72053                    139036  "
      ]
     },
     "execution_count": 51,
     "metadata": {},
     "output_type": "execute_result"
    }
   ],
   "source": [
    "# using boolean indexing\n",
    "# this creates a slice of the dataframe, that is, a new dataframe, which is why the output is different\n",
    "tech = f500[f500['sector'] == 'Technology']\n",
    "tech.head()"
   ]
  },
  {
   "cell_type": "markdown",
   "metadata": {},
   "source": [
    "---"
   ]
  },
  {
   "cell_type": "markdown",
   "metadata": {},
   "source": [
    "### Task 1 - import the nobel dataset\n",
    "\n",
    "The nobel dataset has data on all nobel price laureates till 2016. Since most of the columns are categorical, that is, with a limited number of categories, we can use frequency tables to explore the data.\n",
    "\n",
    "1. Import pandas.\n",
    "2. Import the nobel dataset.\n",
    "3. Print the first five rows.\n",
    "4. Use the `.tail()` method to print the last five rows."
   ]
  },
  {
   "cell_type": "code",
   "execution_count": 1,
   "metadata": {},
   "outputs": [],
   "source": [
    "# import pandas\n",
    "\n",
    "\n",
    "# read in nobel.csv\n",
    "\n",
    "\n",
    "# print head\n"
   ]
  },
  {
   "cell_type": "code",
   "execution_count": 2,
   "metadata": {
    "scrolled": false
   },
   "outputs": [],
   "source": [
    "# print tail\n"
   ]
  },
  {
   "cell_type": "markdown",
   "metadata": {},
   "source": [
    "### Task 2 - Frequencies and percentages\n",
    "\n",
    "1. Create a frequency table of the category column.\n",
    "2. Set the normalize parameter to True to get percentages instead of frequencies.\n"
   ]
  },
  {
   "cell_type": "code",
   "execution_count": 3,
   "metadata": {
    "scrolled": true
   },
   "outputs": [],
   "source": [
    "# frequency table of category column\n"
   ]
  },
  {
   "cell_type": "code",
   "execution_count": 4,
   "metadata": {},
   "outputs": [],
   "source": [
    "# percentage table of category column\n"
   ]
  },
  {
   "cell_type": "markdown",
   "metadata": {},
   "source": [
    "### Task 3 - Percentages for  female laureates.\n",
    "\n",
    "1. Set the sex column as the index.\n",
    "2. Select all 'Female' values from the index and assign to the variable nobel_fem.\n",
    "3. Create a table with percentages of the category column for the female laureates."
   ]
  },
  {
   "cell_type": "code",
   "execution_count": null,
   "metadata": {},
   "outputs": [],
   "source": [
    "# use sex column as the index\n"
   ]
  },
  {
   "cell_type": "code",
   "execution_count": null,
   "metadata": {},
   "outputs": [],
   "source": [
    "# create subset for female price winners using the index\n"
   ]
  },
  {
   "cell_type": "code",
   "execution_count": 54,
   "metadata": {
    "scrolled": false
   },
   "outputs": [
    {
     "data": {
      "text/plain": [
       "Peace         0.291667\n",
       "Literature    0.291667\n",
       "Medicine      0.250000\n",
       "Chemistry     0.083333\n",
       "Economics     0.041667\n",
       "Physics       0.041667\n",
       "Name: category, dtype: float64"
      ]
     },
     "execution_count": 54,
     "metadata": {},
     "output_type": "execute_result"
    }
   ],
   "source": [
    "# create frequency table of \n"
   ]
  },
  {
   "cell_type": "markdown",
   "metadata": {},
   "source": [
    "### Task 4 - Comparing countries in physics.\n",
    "\n",
    "1. Reset the the index and print the head to make sure that the dataset has all columns: year, category, birth_country, sex and age_at_award.\n",
    "2. Set the category column as the index and print the head to check that the index has been set correctly.\n",
    "3. Create a subset where the index has the values 'Physics'. Name the subset nobel_physics.\n",
    "4. Using the nobel_physics subset, create a table with percentages of the birth_country column. Limit the output to the top 10 values."
   ]
  },
  {
   "cell_type": "code",
   "execution_count": 5,
   "metadata": {},
   "outputs": [],
   "source": [
    "# reset the index\n"
   ]
  },
  {
   "cell_type": "code",
   "execution_count": 6,
   "metadata": {},
   "outputs": [],
   "source": [
    "# set category as the index\n"
   ]
  },
  {
   "cell_type": "code",
   "execution_count": 7,
   "metadata": {
    "scrolled": false
   },
   "outputs": [],
   "source": [
    "# create subset for physics using the index\n",
    "\n",
    "\n",
    "# create frequency table for birth country column\n"
   ]
  }
 ],
 "metadata": {
  "kernelspec": {
   "display_name": "Python 3",
   "language": "python",
   "name": "python3"
  },
  "language_info": {
   "codemirror_mode": {
    "name": "ipython",
    "version": 3
   },
   "file_extension": ".py",
   "mimetype": "text/x-python",
   "name": "python",
   "nbconvert_exporter": "python",
   "pygments_lexer": "ipython3",
   "version": "3.8.5"
  }
 },
 "nbformat": 4,
 "nbformat_minor": 5
}
