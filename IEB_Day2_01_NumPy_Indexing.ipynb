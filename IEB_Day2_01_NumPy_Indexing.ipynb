{
 "cells": [
  {
   "cell_type": "markdown",
   "metadata": {},
   "source": [
    "# NumPy - Indexing"
   ]
  },
  {
   "cell_type": "markdown",
   "metadata": {},
   "source": [
    "In this unit, you are going to learn how to select rows, columns and values from a NumPy array.\n",
    "\n",
    "You will learn about:\n",
    "- creating 1D and 2D arrays\n",
    "- selecting elements and slices of arrays"
   ]
  },
  {
   "cell_type": "markdown",
   "metadata": {},
   "source": [
    "### Examples from the introduction to creating and indexing arrays\n"
   ]
  },
  {
   "cell_type": "markdown",
   "metadata": {},
   "source": [
    "#### creating 1D and 2D arrays"
   ]
  },
  {
   "cell_type": "code",
   "execution_count": 13,
   "metadata": {},
   "outputs": [
    {
     "name": "stdout",
     "output_type": "stream",
     "text": [
      "[1 2 3 4 5]\n"
     ]
    }
   ],
   "source": [
    "# creating a 1D array\n",
    "import numpy as np\n",
    "my_array = np.array([1, 2, 3, 4, 5])\n",
    "print(my_array)"
   ]
  },
  {
   "cell_type": "code",
   "execution_count": 17,
   "metadata": {},
   "outputs": [
    {
     "name": "stdout",
     "output_type": "stream",
     "text": [
      "[[ 1  2  3  4  5]\n",
      " [ 6  7  8  9 10]\n",
      " [11 12 13 14 15]]\n"
     ]
    }
   ],
   "source": [
    "# creating a 2D array\n",
    "my_array = np.array([[1, 2, 3, 4, 5], \n",
    "                     [6, 7, 8, 9, 10],\n",
    "                     [11, 12, 13, 14, 15]])\n",
    "print(my_array)"
   ]
  },
  {
   "cell_type": "code",
   "execution_count": 18,
   "metadata": {},
   "outputs": [
    {
     "name": "stdout",
     "output_type": "stream",
     "text": [
      "[1 2 3 4 5]\n"
     ]
    }
   ],
   "source": [
    "# selecting the first row\n",
    "row_1 = my_array[0]\n",
    "print(row_1)"
   ]
  },
  {
   "cell_type": "code",
   "execution_count": 19,
   "metadata": {},
   "outputs": [
    {
     "name": "stdout",
     "output_type": "stream",
     "text": [
      "[[ 1  2  3  4  5]\n",
      " [ 6  7  8  9 10]]\n"
     ]
    }
   ],
   "source": [
    "# creating a slice of the first two rows\n",
    "slice = my_array[:2]\n",
    "print(slice)"
   ]
  },
  {
   "cell_type": "code",
   "execution_count": 20,
   "metadata": {},
   "outputs": [
    {
     "name": "stdout",
     "output_type": "stream",
     "text": [
      "3\n"
     ]
    }
   ],
   "source": [
    "# selecting the third element in the first row\n",
    "print(my_array[0, 2])"
   ]
  },
  {
   "cell_type": "code",
   "execution_count": 21,
   "metadata": {},
   "outputs": [
    {
     "name": "stdout",
     "output_type": "stream",
     "text": [
      "[ 3  8 13]\n"
     ]
    }
   ],
   "source": [
    "# selecting the third column\n",
    "print(my_array[:, 2])"
   ]
  },
  {
   "cell_type": "code",
   "execution_count": 22,
   "metadata": {},
   "outputs": [
    {
     "name": "stdout",
     "output_type": "stream",
     "text": [
      "[[ 1  2  3  4  5]\n",
      " [11 12 13 14 15]]\n"
     ]
    }
   ],
   "source": [
    "# selecting non-adjacent elements\n",
    "print(my_array[[0, -1]])"
   ]
  },
  {
   "cell_type": "markdown",
   "metadata": {},
   "source": [
    "### Task 1: Convert a list of list to a numpy array\n",
    "\n",
    "Below are three lists with data on the La Lakers basketball team. Since in NumPy you cannot label the columns and rows of your data, we had to store the data, column names and player names in separate lists. We are only going to conver the lakers_data list of lists, which has the actual player statistics, to a numpy array.\n",
    "\n",
    "1. Import the numpy library.\n",
    "2. Convert the lakers_data list to a numpy array.\n",
    "3. Print the array."
   ]
  },
  {
   "cell_type": "code",
   "execution_count": 2,
   "metadata": {},
   "outputs": [],
   "source": [
    "# run this cell to load the lists into Python\n",
    "\n",
    "lakers_data = [[1.0, 1.0, 67.0, 34.6, 9.6, 19.4, 3.9, 5.7, 7.8, 10.2, 1.2, 0.5, 25.3],\n",
    "               [2.0, 4.0, 62.0, 34.4, 8.9, 17.7, 7.2, 8.5, 9.3, 3.2, 1.5, 2.3, 26.1],\n",
    "               [3.0, 2.0, 69.0, 25.5, 3.4, 7.3, 1.1, 1.5, 2.1, 1.6, 0.8, 0.2, 9.3],\n",
    "               [4.0, 4.0, 61.0, 25.0, 4.8, 11.0, 1.9, 2.5, 4.5, 1.3, 0.5, 0.4, 12.8],\n",
    "               [5.0, 2.0, 68.0, 24.8, 2.9, 7.0, 0.5, 0.7, 3.3, 1.3, 1.3, 0.5, 8.0],\n",
    "               [6.0, 2.0, 49.0, 24.2, 3.5, 7.8, 0.4, 0.5, 2.3, 1.3, 0.9, 0.1, 8.6],\n",
    "               [7.0, 2.0, 7.0, 23.6, 4.4, 10.4, 2.0, 2.3, 1.9, 2.4, 0.6, 0.6, 11.9],\n",
    "               [8.0, 1.0, 48.0, 20.5, 2.9, 6.8, 0.6, 0.9, 3.0, 5.0, 0.8, 0.0, 7.1],\n",
    "               [9.0, 5.0, 69.0, 18.9, 2.9, 4.0, 1.6, 3.1, 7.3, 0.7, 0.4, 1.1, 7.5],\n",
    "               [10.0, 2.0, 64.0, 18.4, 1.9, 4.5, 1.1, 1.5, 1.9, 1.9, 1.1, 0.3, 5.5],\n",
    "               [11.0, 5.0, 68.0, 16.6, 2.9, 4.5, 0.8, 1.2, 5.7, 0.5, 0.5, 1.4, 6.6],\n",
    "               [12.0, 4.0, 14.0, 14.2, 2.0, 4.9, 0.4, 0.4, 3.2, 0.6, 0.4, 0.4, 5.3],\n",
    "               [13.0, 3.0, 6.0, 13.5, 2.3, 5.0, 0.3, 0.7, 1.2, 1.0, 1.3, 0.2, 5.7],\n",
    "               [14.0, 2.0, 6.0, 13.2, 1.2, 3.7, 0.3, 0.3, 0.8, 0.5, 0.2, 0.0, 2.8],\n",
    "               [15.0, 1.0, 44.0, 11.5, 2.1, 4.9, 0.3, 0.3, 1.2, 1.1, 0.3, 0.0, 5.1],\n",
    "               [16.0, 2.0, 41.0, 11.1, 1.5, 3.9, 0.2, 0.4, 1.1, 0.3, 0.2, 0.1, 4.2],\n",
    "               [17.0, 5.0, 1.0, 9.0, 3.0, 6.0, 0.0, 0.0, 5.0, 1.0, 0.0, 0.0, 6.0],\n",
    "               [18.0, 4.0, 45.0, 8.1, 0.5, 1.3, 0.0, 0.0, 1.2, 0.6, 0.3, 0.1, 1.5],\n",
    "               [19.0, 4.0, 5.0, 4.0, 0.6, 0.6, 0.2, 0.4, 0.6, 0.4, 0.0, 0.0, 1.4],\n",
    "               [20.0, 2.0, 2.0, 2.5, 0.0, 0.5, 0.0, 0.0, 0.5, 0.0, 0.0, 0.0, 0.0]]\n",
    "\n",
    "column_names = ['Rank',\n",
    "                'Position',\n",
    "                'Games',\n",
    "                'Minutes',\n",
    "                'Shots made',\n",
    "                'Shots attempted',\n",
    "                'Free throws',\n",
    "                'Free throws attempted',\n",
    "                'Rebounds',\n",
    "                'Assists',\n",
    "                'Steals',\n",
    "                'Blocks',\n",
    "                'Points']\n",
    "\n",
    "player_names = ['LeBron James',\n",
    "                'Anthony Davis',\n",
    "                'Kentavious Caldwell-Pope',\n",
    "                'Kyle Kuzma',\n",
    "                'Danny Green',\n",
    "                'Avery Bradley',\n",
    "                'Dion Waiters',\n",
    "                'Rajon Rondo',\n",
    "                'Dwight Howard',\n",
    "                'Alex Caruso',\n",
    "                'JaVale McGee',\n",
    "                'Markieff Morris',\n",
    "                'Talen Horton-Tucker',\n",
    "                'J.R. Smith',\n",
    "                'Quinn Cook',\n",
    "                'Troy Daniels',\n",
    "                'Devontae Cacok',\n",
    "                'Jared Dudley',\n",
    "                'Kostas Antetokounmpo',\n",
    "                'Zach Norvell']"
   ]
  },
  {
   "cell_type": "code",
   "execution_count": null,
   "metadata": {},
   "outputs": [],
   "source": [
    "# import numpy\n",
    "\n",
    "\n",
    "# convert lakers_data to lakers_np\n",
    "\n"
   ]
  },
  {
   "cell_type": "markdown",
   "metadata": {},
   "source": [
    "### Task 2: Creating subsets\n",
    "\n",
    "1. Print the first five rows\n",
    "2. Print the 'Points' column\n",
    "3. Print the 'Steals' column\n",
    "4. Print Points value for the second player\n",
    "5. Print the last five rows.\n",
    "6. Print the last five columns for the first five players"
   ]
  },
  {
   "cell_type": "markdown",
   "metadata": {},
   "source": [
    "#### Tip on selecting columns\n",
    "\n",
    "Here is a quick tip on selecting columns using the column_names list. You can use the `range()` function together with the `len()` function to print the position and name of each column.\n",
    "\n",
    "The i variable gives you a counter to select each element from the column_names list. At the same time, you can print the i variable to know the position of the column in the array."
   ]
  },
  {
   "cell_type": "code",
   "execution_count": 24,
   "metadata": {},
   "outputs": [
    {
     "name": "stdout",
     "output_type": "stream",
     "text": [
      "0 Rank\n",
      "1 Position\n",
      "2 Games\n",
      "3 Minutes\n",
      "4 Shots made\n",
      "5 Shots attempted\n",
      "6 Free throws\n",
      "7 Free throws attempted\n",
      "8 Rebounds\n",
      "9 Assists\n",
      "10 Steals\n",
      "11 Blocks\n",
      "12 Points\n"
     ]
    }
   ],
   "source": [
    "for i in range(len(column_names)):\n",
    "    print(i, column_names[i])"
   ]
  },
  {
   "cell_type": "code",
   "execution_count": 1,
   "metadata": {},
   "outputs": [],
   "source": [
    "# Print the first five rows\n"
   ]
  },
  {
   "cell_type": "code",
   "execution_count": 2,
   "metadata": {},
   "outputs": [],
   "source": [
    "# Print the 'Points' column\n"
   ]
  },
  {
   "cell_type": "code",
   "execution_count": 3,
   "metadata": {},
   "outputs": [],
   "source": [
    "# Print the 'Steals' column\n"
   ]
  },
  {
   "cell_type": "code",
   "execution_count": 4,
   "metadata": {},
   "outputs": [],
   "source": [
    "# Print Points value for the second player\n"
   ]
  },
  {
   "cell_type": "code",
   "execution_count": 5,
   "metadata": {},
   "outputs": [],
   "source": [
    "# Print the last five rows.\n"
   ]
  },
  {
   "cell_type": "code",
   "execution_count": 6,
   "metadata": {},
   "outputs": [],
   "source": [
    "# Print the last five columns for the first five players\n"
   ]
  }
 ],
 "metadata": {
  "kernelspec": {
   "display_name": "Python 3",
   "language": "python",
   "name": "python3"
  },
  "language_info": {
   "codemirror_mode": {
    "name": "ipython",
    "version": 3
   },
   "file_extension": ".py",
   "mimetype": "text/x-python",
   "name": "python",
   "nbconvert_exporter": "python",
   "pygments_lexer": "ipython3",
   "version": "3.8.5"
  }
 },
 "nbformat": 4,
 "nbformat_minor": 5
}
